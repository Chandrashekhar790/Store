{
 "cells": [
  {
   "cell_type": "code",
   "execution_count": 75,
   "id": "a26a9c75",
   "metadata": {},
   "outputs": [],
   "source": [
    "from selenium import webdriver\n",
    "from selenium.webdriver.chrome.service import Service\n",
    "from selenium.webdriver.common.keys import Keys\n",
    "from bs4 import BeautifulSoup\n",
    "#from selenium.webdriver.support.ui import WebDriverWait\n",
    "from selenium.webdriver.support import expected_conditions as EC\n",
    "#from selenium.webdriver.chrome.options import Options\n",
    "#import pandas as pd\n",
    "from selenium.webdriver.common.by import By\n",
    "from time import sleep\n",
    "import time\n",
    "from selenium.webdriver.common.action_chains import ActionChains\n",
    "from selenium.webdriver.support.events import EventFiringWebDriver\n",
    "from selenium.webdriver.support.events import AbstractEventListener\n",
    "from selenium.webdriver.support.select import Select"
   ]
  },
  {
   "cell_type": "code",
   "execution_count": 2,
   "id": "4c358e88",
   "metadata": {},
   "outputs": [],
   "source": [
    "\n",
    "serv = Service(executable_path = 'C:\\\\Users\\\\Admin\\\\AppData\\\\Local\\\\scrap\\\\chromedriver.exe')\n",
    "\n",
    "driver = webdriver.Chrome(service = serv)\n",
    "\n",
    "\n",
    "\n",
    "driver.get('https://www.linkedin.com/login?fromSignIn=true&trk=guest_homepage-basic_nav-header-signin')\n",
    "\n",
    "driver.maximize_window()\n",
    "\n",
    "credential = open('credentials.txt')\n",
    "line = credential.readlines()\n",
    "username = line[0]\n",
    "password = line[1]\n",
    "username_input = driver.find_element(By.ID, \"username\")\n",
    "username_input.send_keys(username)\n",
    "\n",
    "Password_input = driver.find_element(By.ID, \"password\")\n",
    "Password_input.send_keys(password)\n",
    "sleep(2)\n",
    "login_field = driver.find_element(By.CSS_SELECTOR, '#organic-div > form > div.login__form_action_container > button')\n",
    "login_field.click()\n",
    "\n",
    "\n"
   ]
  },
  {
   "cell_type": "code",
   "execution_count": 3,
   "id": "73515990",
   "metadata": {},
   "outputs": [],
   "source": [
    "\n",
    "driver.get('https://www.linkedin.com/sales/search/people?query=(recentSearchParam%3A(id%3A1878815892%2CdoLogHistory%3Atrue)%2Cfilters%3AList((type%3AREGION%2Cvalues%3AList((id%3A102221843%2Ctext%3ANorth%2520America%2CselectionType%3AINCLUDED)))%2C(type%3ACURRENT_TITLE%2Cvalues%3AList((id%3A313%2Ctext%3AInformation%2520Technology%2520Project%2520Manager%2CselectionType%3AINCLUDED%2CcontainsChildren%3Afalse%2Cparent%3A(text%3AProject%2520Manager%2Cid%3A4)%2CselectedChildren%3AList())))%2C(type%3ACOMPANY_HEADCOUNT%2Cvalues%3AList((id%3AH%2Ctext%3A5001-10%252C000%2CselectionType%3AINCLUDED)%2C(id%3AF%2Ctext%3A501-1000%2CselectionType%3AINCLUDED)%2C(id%3AD%2Ctext%3A51-200%2CselectionType%3AINCLUDED)%2C(id%3AI%2Ctext%3A10%252C001%252B%2CselectionType%3AINCLUDED)))))&sessionId=ni6xDk2wQvmKfqXEeJKiYA%3D%3D&viewAllFilters=true')"
   ]
  },
  {
   "cell_type": "code",
   "execution_count": 94,
   "id": "4afa7c3e",
   "metadata": {},
   "outputs": [],
   "source": [
    "collapse = driver.find_element(By.XPATH,'//*[@id=\"content-main\"]/div/div[1]/div[1]/button')\n",
    "collapse.click()"
   ]
  },
  {
   "cell_type": "code",
   "execution_count": 13,
   "id": "b4807a4b",
   "metadata": {},
   "outputs": [
    {
     "name": "stdout",
     "output_type": "stream",
     "text": [
      "href=\"/sales/lead/ACwAAALHYtwBN9PyYXJwSkQ8e6YTatFnFsygZXQ,NAME_SEARCH,pcsu?_ntb=ni6xDk2wQvmKfqXEeJKiYA%3D%3D\"\n"
     ]
    }
   ],
   "source": [
    "#profile_ID = 'href=\"/sales/lead/ACwAAALHYtwBN9PyYXJwSkQ8e6YTatFnFsygZXQ,NAME_SEARCH,pcsu?_ntb=ni6xDk2wQvmKfqXEeJKiYA%3D%3D\"'\n",
    "#profile_url = 'https://www.linkedin.com' + profile_ID\n",
    "#print(profile_ID)"
   ]
  },
  {
   "cell_type": "code",
   "execution_count": 15,
   "id": "bfa3b24e",
   "metadata": {},
   "outputs": [],
   "source": [
    "\n",
    "#def GetURL():\n",
    "   # page_source = BeautifulSoup(driver.page_source)\n",
    "   # profiles = page_source.find_all('a',class_ = 'ember-view')\n",
    "\n",
    "\n",
    "  #  all_profile_URL = []\n",
    "  #  for profile in profiles:\n",
    "  #      profile_ID = profile.get('href')\n",
    "   #     profile_url = 'https://www.linkedin.com' + profile_ID\n",
    "    \n",
    "   #     if profile_url not in all_profile_URL:\n",
    "    #            all_profile_URL.append(profile_url)\n",
    "        \n",
    "  #  return (all_profile_URL)\n",
    "\n",
    "#print(GetURL())\n",
    "    "
   ]
  },
  {
   "cell_type": "code",
   "execution_count": 97,
   "id": "3b1afae6",
   "metadata": {},
   "outputs": [
    {
     "ename": "NoSuchElementException",
     "evalue": "Message: no such element: Unable to locate element: {\"method\":\"xpath\",\"selector\":\"//button[@class='artdeco-button--2']\"}\n  (Session info: chrome=102.0.5005.63)\nStacktrace:\nBacktrace:\n\tOrdinal0 [0x005CD953+2414931]\n\tOrdinal0 [0x0055F5E1+1963489]\n\tOrdinal0 [0x0044C6B8+837304]\n\tOrdinal0 [0x00479500+1021184]\n\tOrdinal0 [0x0047979B+1021851]\n\tOrdinal0 [0x004A6502+1205506]\n\tOrdinal0 [0x004944E4+1131748]\n\tOrdinal0 [0x004A4812+1198098]\n\tOrdinal0 [0x004942B6+1131190]\n\tOrdinal0 [0x0046E860+976992]\n\tOrdinal0 [0x0046F756+980822]\n\tGetHandleVerifier [0x0083CC62+2510274]\n\tGetHandleVerifier [0x0082F760+2455744]\n\tGetHandleVerifier [0x0065EABA+551962]\n\tGetHandleVerifier [0x0065D916+547446]\n\tOrdinal0 [0x00565F3B+1990459]\n\tOrdinal0 [0x0056A898+2009240]\n\tOrdinal0 [0x0056A985+2009477]\n\tOrdinal0 [0x00573AD1+2046673]\n\tBaseThreadInitThunk [0x7672FA29+25]\n\tRtlGetAppContainerNamedObjectPath [0x77367A9E+286]\n\tRtlGetAppContainerNamedObjectPath [0x77367A6E+238]\n",
     "output_type": "error",
     "traceback": [
      "\u001b[1;31m---------------------------------------------------------------------------\u001b[0m",
      "\u001b[1;31mNoSuchElementException\u001b[0m                    Traceback (most recent call last)",
      "Input \u001b[1;32mIn [97]\u001b[0m, in \u001b[0;36m<cell line: 4>\u001b[1;34m()\u001b[0m\n\u001b[0;32m      1\u001b[0m page_source \u001b[38;5;241m=\u001b[39m BeautifulSoup(driver\u001b[38;5;241m.\u001b[39mpage_source,\u001b[38;5;124m\"\u001b[39m\u001b[38;5;124mhtml.parser\u001b[39m\u001b[38;5;124m\"\u001b[39m)\n\u001b[0;32m      2\u001b[0m \u001b[38;5;66;03m#print(page_source)\u001b[39;00m\n\u001b[1;32m----> 4\u001b[0m salesNav_pg \u001b[38;5;241m=\u001b[39m \u001b[43mdriver\u001b[49m\u001b[38;5;241;43m.\u001b[39;49m\u001b[43mfind_element\u001b[49m\u001b[43m(\u001b[49m\u001b[43mBy\u001b[49m\u001b[38;5;241;43m.\u001b[39;49m\u001b[43mXPATH\u001b[49m\u001b[43m,\u001b[49m\u001b[38;5;124;43m\"\u001b[39;49m\u001b[38;5;124;43m//button[@class=\u001b[39;49m\u001b[38;5;124;43m'\u001b[39;49m\u001b[38;5;124;43martdeco-button--2\u001b[39;49m\u001b[38;5;124;43m'\u001b[39;49m\u001b[38;5;124;43m]\u001b[39;49m\u001b[38;5;124;43m\"\u001b[39;49m\u001b[43m)\u001b[49m \n\u001b[0;32m      5\u001b[0m salesNav_pg\u001b[38;5;241m.\u001b[39mclick()\n",
      "File \u001b[1;32m~\\anaconda3\\lib\\site-packages\\selenium\\webdriver\\remote\\webdriver.py:857\u001b[0m, in \u001b[0;36mWebDriver.find_element\u001b[1;34m(self, by, value)\u001b[0m\n\u001b[0;32m    854\u001b[0m     by \u001b[38;5;241m=\u001b[39m By\u001b[38;5;241m.\u001b[39mCSS_SELECTOR\n\u001b[0;32m    855\u001b[0m     value \u001b[38;5;241m=\u001b[39m \u001b[38;5;124m'\u001b[39m\u001b[38;5;124m[name=\u001b[39m\u001b[38;5;124m\"\u001b[39m\u001b[38;5;132;01m%s\u001b[39;00m\u001b[38;5;124m\"\u001b[39m\u001b[38;5;124m]\u001b[39m\u001b[38;5;124m'\u001b[39m \u001b[38;5;241m%\u001b[39m value\n\u001b[1;32m--> 857\u001b[0m \u001b[38;5;28;01mreturn\u001b[39;00m \u001b[38;5;28;43mself\u001b[39;49m\u001b[38;5;241;43m.\u001b[39;49m\u001b[43mexecute\u001b[49m\u001b[43m(\u001b[49m\u001b[43mCommand\u001b[49m\u001b[38;5;241;43m.\u001b[39;49m\u001b[43mFIND_ELEMENT\u001b[49m\u001b[43m,\u001b[49m\u001b[43m \u001b[49m\u001b[43m{\u001b[49m\n\u001b[0;32m    858\u001b[0m \u001b[43m    \u001b[49m\u001b[38;5;124;43m'\u001b[39;49m\u001b[38;5;124;43musing\u001b[39;49m\u001b[38;5;124;43m'\u001b[39;49m\u001b[43m:\u001b[49m\u001b[43m \u001b[49m\u001b[43mby\u001b[49m\u001b[43m,\u001b[49m\n\u001b[0;32m    859\u001b[0m \u001b[43m    \u001b[49m\u001b[38;5;124;43m'\u001b[39;49m\u001b[38;5;124;43mvalue\u001b[39;49m\u001b[38;5;124;43m'\u001b[39;49m\u001b[43m:\u001b[49m\u001b[43m \u001b[49m\u001b[43mvalue\u001b[49m\u001b[43m}\u001b[49m\u001b[43m)\u001b[49m[\u001b[38;5;124m'\u001b[39m\u001b[38;5;124mvalue\u001b[39m\u001b[38;5;124m'\u001b[39m]\n",
      "File \u001b[1;32m~\\anaconda3\\lib\\site-packages\\selenium\\webdriver\\remote\\webdriver.py:435\u001b[0m, in \u001b[0;36mWebDriver.execute\u001b[1;34m(self, driver_command, params)\u001b[0m\n\u001b[0;32m    433\u001b[0m response \u001b[38;5;241m=\u001b[39m \u001b[38;5;28mself\u001b[39m\u001b[38;5;241m.\u001b[39mcommand_executor\u001b[38;5;241m.\u001b[39mexecute(driver_command, params)\n\u001b[0;32m    434\u001b[0m \u001b[38;5;28;01mif\u001b[39;00m response:\n\u001b[1;32m--> 435\u001b[0m     \u001b[38;5;28;43mself\u001b[39;49m\u001b[38;5;241;43m.\u001b[39;49m\u001b[43merror_handler\u001b[49m\u001b[38;5;241;43m.\u001b[39;49m\u001b[43mcheck_response\u001b[49m\u001b[43m(\u001b[49m\u001b[43mresponse\u001b[49m\u001b[43m)\u001b[49m\n\u001b[0;32m    436\u001b[0m     response[\u001b[38;5;124m'\u001b[39m\u001b[38;5;124mvalue\u001b[39m\u001b[38;5;124m'\u001b[39m] \u001b[38;5;241m=\u001b[39m \u001b[38;5;28mself\u001b[39m\u001b[38;5;241m.\u001b[39m_unwrap_value(\n\u001b[0;32m    437\u001b[0m         response\u001b[38;5;241m.\u001b[39mget(\u001b[38;5;124m'\u001b[39m\u001b[38;5;124mvalue\u001b[39m\u001b[38;5;124m'\u001b[39m, \u001b[38;5;28;01mNone\u001b[39;00m))\n\u001b[0;32m    438\u001b[0m     \u001b[38;5;28;01mreturn\u001b[39;00m response\n",
      "File \u001b[1;32m~\\anaconda3\\lib\\site-packages\\selenium\\webdriver\\remote\\errorhandler.py:247\u001b[0m, in \u001b[0;36mErrorHandler.check_response\u001b[1;34m(self, response)\u001b[0m\n\u001b[0;32m    245\u001b[0m         alert_text \u001b[38;5;241m=\u001b[39m value[\u001b[38;5;124m'\u001b[39m\u001b[38;5;124malert\u001b[39m\u001b[38;5;124m'\u001b[39m]\u001b[38;5;241m.\u001b[39mget(\u001b[38;5;124m'\u001b[39m\u001b[38;5;124mtext\u001b[39m\u001b[38;5;124m'\u001b[39m)\n\u001b[0;32m    246\u001b[0m     \u001b[38;5;28;01mraise\u001b[39;00m exception_class(message, screen, stacktrace, alert_text)  \u001b[38;5;66;03m# type: ignore[call-arg]  # mypy is not smart enough here\u001b[39;00m\n\u001b[1;32m--> 247\u001b[0m \u001b[38;5;28;01mraise\u001b[39;00m exception_class(message, screen, stacktrace)\n",
      "\u001b[1;31mNoSuchElementException\u001b[0m: Message: no such element: Unable to locate element: {\"method\":\"xpath\",\"selector\":\"//button[@class='artdeco-button--2']\"}\n  (Session info: chrome=102.0.5005.63)\nStacktrace:\nBacktrace:\n\tOrdinal0 [0x005CD953+2414931]\n\tOrdinal0 [0x0055F5E1+1963489]\n\tOrdinal0 [0x0044C6B8+837304]\n\tOrdinal0 [0x00479500+1021184]\n\tOrdinal0 [0x0047979B+1021851]\n\tOrdinal0 [0x004A6502+1205506]\n\tOrdinal0 [0x004944E4+1131748]\n\tOrdinal0 [0x004A4812+1198098]\n\tOrdinal0 [0x004942B6+1131190]\n\tOrdinal0 [0x0046E860+976992]\n\tOrdinal0 [0x0046F756+980822]\n\tGetHandleVerifier [0x0083CC62+2510274]\n\tGetHandleVerifier [0x0082F760+2455744]\n\tGetHandleVerifier [0x0065EABA+551962]\n\tGetHandleVerifier [0x0065D916+547446]\n\tOrdinal0 [0x00565F3B+1990459]\n\tOrdinal0 [0x0056A898+2009240]\n\tOrdinal0 [0x0056A985+2009477]\n\tOrdinal0 [0x00573AD1+2046673]\n\tBaseThreadInitThunk [0x7672FA29+25]\n\tRtlGetAppContainerNamedObjectPath [0x77367A9E+286]\n\tRtlGetAppContainerNamedObjectPath [0x77367A6E+238]\n"
     ]
    }
   ],
   "source": [
    "page_source = BeautifulSoup(driver.page_source,\"html.parser\")\n",
    "#print(page_source)\n",
    "\n",
    "salesNav_pg = driver.find_element(By.XPATH,\"//button[@class='artdeco-button--2']\") \n",
    "salesNav_pg.click()\n",
    "\n",
    "\n",
    "\n",
    "\n",
    "#Name = salesNav_pg.find('a')\n",
    "\n",
    "\n",
    "#print(Name).get_text().strip()\n",
    "#len(Name)\n",
    "\n"
   ]
  },
  {
   "cell_type": "code",
   "execution_count": 98,
   "id": "02a28f70",
   "metadata": {},
   "outputs": [
    {
     "ename": "NoSuchElementException",
     "evalue": "Message: no such element: Unable to locate element: {\"method\":\"css selector\",\"selector\":\".artdeco-dropdown__content--is-open\"}\n  (Session info: chrome=102.0.5005.63)\nStacktrace:\nBacktrace:\n\tOrdinal0 [0x005CD953+2414931]\n\tOrdinal0 [0x0055F5E1+1963489]\n\tOrdinal0 [0x0044C6B8+837304]\n\tOrdinal0 [0x00479500+1021184]\n\tOrdinal0 [0x0047979B+1021851]\n\tOrdinal0 [0x004A6502+1205506]\n\tOrdinal0 [0x004944E4+1131748]\n\tOrdinal0 [0x004A4812+1198098]\n\tOrdinal0 [0x004942B6+1131190]\n\tOrdinal0 [0x0046E860+976992]\n\tOrdinal0 [0x0046F756+980822]\n\tGetHandleVerifier [0x0083CC62+2510274]\n\tGetHandleVerifier [0x0082F760+2455744]\n\tGetHandleVerifier [0x0065EABA+551962]\n\tGetHandleVerifier [0x0065D916+547446]\n\tOrdinal0 [0x00565F3B+1990459]\n\tOrdinal0 [0x0056A898+2009240]\n\tOrdinal0 [0x0056A985+2009477]\n\tOrdinal0 [0x00573AD1+2046673]\n\tBaseThreadInitThunk [0x7672FA29+25]\n\tRtlGetAppContainerNamedObjectPath [0x77367A9E+286]\n\tRtlGetAppContainerNamedObjectPath [0x77367A6E+238]\n",
     "output_type": "error",
     "traceback": [
      "\u001b[1;31m---------------------------------------------------------------------------\u001b[0m",
      "\u001b[1;31mNoSuchElementException\u001b[0m                    Traceback (most recent call last)",
      "Input \u001b[1;32mIn [98]\u001b[0m, in \u001b[0;36m<cell line: 1>\u001b[1;34m()\u001b[0m\n\u001b[1;32m----> 1\u001b[0m prof_view \u001b[38;5;241m=\u001b[39m \u001b[43mdriver\u001b[49m\u001b[38;5;241;43m.\u001b[39;49m\u001b[43mfind_element\u001b[49m\u001b[43m(\u001b[49m\u001b[43mBy\u001b[49m\u001b[38;5;241;43m.\u001b[39;49m\u001b[43mCLASS_NAME\u001b[49m\u001b[43m,\u001b[49m\u001b[38;5;124;43m'\u001b[39;49m\u001b[38;5;124;43martdeco-dropdown__content--is-open\u001b[39;49m\u001b[38;5;124;43m'\u001b[39;49m\u001b[43m)\u001b[49m\n\u001b[0;32m      2\u001b[0m prof_viewli \u001b[38;5;241m=\u001b[39m prof_view\u001b[38;5;241m.\u001b[39mfind_element(By\u001b[38;5;241m.\u001b[39mCLASS_NAME,\u001b[38;5;124m'\u001b[39m\u001b[38;5;124minverse-link-on-a-light-background-without-visited-and-hover\u001b[39m\u001b[38;5;124m'\u001b[39m)\n\u001b[0;32m      3\u001b[0m prof_viewli\u001b[38;5;241m.\u001b[39mclick()\n",
      "File \u001b[1;32m~\\anaconda3\\lib\\site-packages\\selenium\\webdriver\\remote\\webdriver.py:857\u001b[0m, in \u001b[0;36mWebDriver.find_element\u001b[1;34m(self, by, value)\u001b[0m\n\u001b[0;32m    854\u001b[0m     by \u001b[38;5;241m=\u001b[39m By\u001b[38;5;241m.\u001b[39mCSS_SELECTOR\n\u001b[0;32m    855\u001b[0m     value \u001b[38;5;241m=\u001b[39m \u001b[38;5;124m'\u001b[39m\u001b[38;5;124m[name=\u001b[39m\u001b[38;5;124m\"\u001b[39m\u001b[38;5;132;01m%s\u001b[39;00m\u001b[38;5;124m\"\u001b[39m\u001b[38;5;124m]\u001b[39m\u001b[38;5;124m'\u001b[39m \u001b[38;5;241m%\u001b[39m value\n\u001b[1;32m--> 857\u001b[0m \u001b[38;5;28;01mreturn\u001b[39;00m \u001b[38;5;28;43mself\u001b[39;49m\u001b[38;5;241;43m.\u001b[39;49m\u001b[43mexecute\u001b[49m\u001b[43m(\u001b[49m\u001b[43mCommand\u001b[49m\u001b[38;5;241;43m.\u001b[39;49m\u001b[43mFIND_ELEMENT\u001b[49m\u001b[43m,\u001b[49m\u001b[43m \u001b[49m\u001b[43m{\u001b[49m\n\u001b[0;32m    858\u001b[0m \u001b[43m    \u001b[49m\u001b[38;5;124;43m'\u001b[39;49m\u001b[38;5;124;43musing\u001b[39;49m\u001b[38;5;124;43m'\u001b[39;49m\u001b[43m:\u001b[49m\u001b[43m \u001b[49m\u001b[43mby\u001b[49m\u001b[43m,\u001b[49m\n\u001b[0;32m    859\u001b[0m \u001b[43m    \u001b[49m\u001b[38;5;124;43m'\u001b[39;49m\u001b[38;5;124;43mvalue\u001b[39;49m\u001b[38;5;124;43m'\u001b[39;49m\u001b[43m:\u001b[49m\u001b[43m \u001b[49m\u001b[43mvalue\u001b[49m\u001b[43m}\u001b[49m\u001b[43m)\u001b[49m[\u001b[38;5;124m'\u001b[39m\u001b[38;5;124mvalue\u001b[39m\u001b[38;5;124m'\u001b[39m]\n",
      "File \u001b[1;32m~\\anaconda3\\lib\\site-packages\\selenium\\webdriver\\remote\\webdriver.py:435\u001b[0m, in \u001b[0;36mWebDriver.execute\u001b[1;34m(self, driver_command, params)\u001b[0m\n\u001b[0;32m    433\u001b[0m response \u001b[38;5;241m=\u001b[39m \u001b[38;5;28mself\u001b[39m\u001b[38;5;241m.\u001b[39mcommand_executor\u001b[38;5;241m.\u001b[39mexecute(driver_command, params)\n\u001b[0;32m    434\u001b[0m \u001b[38;5;28;01mif\u001b[39;00m response:\n\u001b[1;32m--> 435\u001b[0m     \u001b[38;5;28;43mself\u001b[39;49m\u001b[38;5;241;43m.\u001b[39;49m\u001b[43merror_handler\u001b[49m\u001b[38;5;241;43m.\u001b[39;49m\u001b[43mcheck_response\u001b[49m\u001b[43m(\u001b[49m\u001b[43mresponse\u001b[49m\u001b[43m)\u001b[49m\n\u001b[0;32m    436\u001b[0m     response[\u001b[38;5;124m'\u001b[39m\u001b[38;5;124mvalue\u001b[39m\u001b[38;5;124m'\u001b[39m] \u001b[38;5;241m=\u001b[39m \u001b[38;5;28mself\u001b[39m\u001b[38;5;241m.\u001b[39m_unwrap_value(\n\u001b[0;32m    437\u001b[0m         response\u001b[38;5;241m.\u001b[39mget(\u001b[38;5;124m'\u001b[39m\u001b[38;5;124mvalue\u001b[39m\u001b[38;5;124m'\u001b[39m, \u001b[38;5;28;01mNone\u001b[39;00m))\n\u001b[0;32m    438\u001b[0m     \u001b[38;5;28;01mreturn\u001b[39;00m response\n",
      "File \u001b[1;32m~\\anaconda3\\lib\\site-packages\\selenium\\webdriver\\remote\\errorhandler.py:247\u001b[0m, in \u001b[0;36mErrorHandler.check_response\u001b[1;34m(self, response)\u001b[0m\n\u001b[0;32m    245\u001b[0m         alert_text \u001b[38;5;241m=\u001b[39m value[\u001b[38;5;124m'\u001b[39m\u001b[38;5;124malert\u001b[39m\u001b[38;5;124m'\u001b[39m]\u001b[38;5;241m.\u001b[39mget(\u001b[38;5;124m'\u001b[39m\u001b[38;5;124mtext\u001b[39m\u001b[38;5;124m'\u001b[39m)\n\u001b[0;32m    246\u001b[0m     \u001b[38;5;28;01mraise\u001b[39;00m exception_class(message, screen, stacktrace, alert_text)  \u001b[38;5;66;03m# type: ignore[call-arg]  # mypy is not smart enough here\u001b[39;00m\n\u001b[1;32m--> 247\u001b[0m \u001b[38;5;28;01mraise\u001b[39;00m exception_class(message, screen, stacktrace)\n",
      "\u001b[1;31mNoSuchElementException\u001b[0m: Message: no such element: Unable to locate element: {\"method\":\"css selector\",\"selector\":\".artdeco-dropdown__content--is-open\"}\n  (Session info: chrome=102.0.5005.63)\nStacktrace:\nBacktrace:\n\tOrdinal0 [0x005CD953+2414931]\n\tOrdinal0 [0x0055F5E1+1963489]\n\tOrdinal0 [0x0044C6B8+837304]\n\tOrdinal0 [0x00479500+1021184]\n\tOrdinal0 [0x0047979B+1021851]\n\tOrdinal0 [0x004A6502+1205506]\n\tOrdinal0 [0x004944E4+1131748]\n\tOrdinal0 [0x004A4812+1198098]\n\tOrdinal0 [0x004942B6+1131190]\n\tOrdinal0 [0x0046E860+976992]\n\tOrdinal0 [0x0046F756+980822]\n\tGetHandleVerifier [0x0083CC62+2510274]\n\tGetHandleVerifier [0x0082F760+2455744]\n\tGetHandleVerifier [0x0065EABA+551962]\n\tGetHandleVerifier [0x0065D916+547446]\n\tOrdinal0 [0x00565F3B+1990459]\n\tOrdinal0 [0x0056A898+2009240]\n\tOrdinal0 [0x0056A985+2009477]\n\tOrdinal0 [0x00573AD1+2046673]\n\tBaseThreadInitThunk [0x7672FA29+25]\n\tRtlGetAppContainerNamedObjectPath [0x77367A9E+286]\n\tRtlGetAppContainerNamedObjectPath [0x77367A6E+238]\n"
     ]
    }
   ],
   "source": [
    "\n",
    "prof_view = driver.find_element(By.CLASS_NAME,'artdeco-dropdown__content--is-open')\n",
    "prof_viewli = prof_view.find_element(By.CLASS_NAME,'inverse-link-on-a-light-background-without-visited-and-hover')\n",
    "prof_viewli.click()"
   ]
  },
  {
   "cell_type": "code",
   "execution_count": null,
   "id": "5f50300e",
   "metadata": {},
   "outputs": [],
   "source": []
  },
  {
   "cell_type": "code",
   "execution_count": null,
   "id": "b0deae2f",
   "metadata": {},
   "outputs": [],
   "source": []
  }
 ],
 "metadata": {
  "kernelspec": {
   "display_name": "Python 3 (ipykernel)",
   "language": "python",
   "name": "python3"
  },
  "language_info": {
   "codemirror_mode": {
    "name": "ipython",
    "version": 3
   },
   "file_extension": ".py",
   "mimetype": "text/x-python",
   "name": "python",
   "nbconvert_exporter": "python",
   "pygments_lexer": "ipython3",
   "version": "3.9.12"
  }
 },
 "nbformat": 4,
 "nbformat_minor": 5
}
