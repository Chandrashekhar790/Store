{
 "cells": [
  {
   "cell_type": "code",
   "execution_count": 1,
   "id": "a26a9c75",
   "metadata": {},
   "outputs": [],
   "source": [
    "from selenium import webdriver\n",
    "from selenium.webdriver.chrome.service import Service\n",
    "from selenium.webdriver.common.keys import Keys\n",
    "from bs4 import BeautifulSoup\n",
    "#from selenium.webdriver.support.ui import WebDriverWait\n",
    "from selenium.webdriver.support import expected_conditions as EC\n",
    "#from selenium.webdriver.chrome.options import Options\n",
    "import pandas as pd\n",
    "from selenium.webdriver.common.by import By\n",
    "from time import sleep\n",
    "import csv\n",
    "import time\n",
    "from selenium.webdriver.common.action_chains import ActionChains\n",
    "from selenium.webdriver.support.events import EventFiringWebDriver\n",
    "from selenium.webdriver.support.events import AbstractEventListener\n",
    "from selenium.webdriver.support.select import Select"
   ]
  },
  {
   "cell_type": "code",
   "execution_count": 2,
   "id": "4c358e88",
   "metadata": {},
   "outputs": [],
   "source": [
    "\n",
    "serv = Service(executable_path = 'C:\\\\Users\\\\Admin\\\\AppData\\\\Local\\\\scrap\\\\chromedriver.exe')\n",
    "\n",
    "driver = webdriver.Chrome(service = serv)\n",
    "\n",
    "\n",
    "\n",
    "driver.get('https://www.linkedin.com/login?fromSignIn=true&trk=guest_homepage-basic_nav-header-signin')\n",
    "\n",
    "driver.maximize_window()\n",
    "\n",
    "credential = open('credentials.txt')\n",
    "line = credential.readlines()\n",
    "username = line[0]\n",
    "password = line[1]\n",
    "username_input = driver.find_element(By.ID, \"username\")\n",
    "username_input.send_keys(username)\n",
    "\n",
    "Password_input = driver.find_element(By.ID, \"password\")\n",
    "Password_input.send_keys(password)\n",
    "sleep(2)\n",
    "login_field = driver.find_element(By.CSS_SELECTOR, '#organic-div > form > div.login__form_action_container > button')\n",
    "login_field.click()\n",
    "\n",
    "\n"
   ]
  },
  {
   "cell_type": "code",
   "execution_count": 3,
   "id": "73515990",
   "metadata": {},
   "outputs": [],
   "source": [
    "\n",
    "driver.get('https://www.linkedin.com/sales/search/people?query=(recentSearchParam%3A(id%3A1878815892%2CdoLogHistory%3Atrue)%2Cfilters%3AList((type%3AREGION%2Cvalues%3AList((id%3A102221843%2Ctext%3ANorth%2520America%2CselectionType%3AINCLUDED)))%2C(type%3ACURRENT_TITLE%2Cvalues%3AList((id%3A313%2Ctext%3AInformation%2520Technology%2520Project%2520Manager%2CselectionType%3AINCLUDED%2CcontainsChildren%3Afalse%2Cparent%3A(text%3AProject%2520Manager%2Cid%3A4)%2CselectedChildren%3AList())))%2C(type%3ACOMPANY_HEADCOUNT%2Cvalues%3AList((id%3AH%2Ctext%3A5001-10%252C000%2CselectionType%3AINCLUDED)%2C(id%3AF%2Ctext%3A501-1000%2CselectionType%3AINCLUDED)%2C(id%3AD%2Ctext%3A51-200%2CselectionType%3AINCLUDED)%2C(id%3AI%2Ctext%3A10%252C001%252B%2CselectionType%3AINCLUDED)))))&sessionId=ni6xDk2wQvmKfqXEeJKiYA%3D%3D&viewAllFilters=true')"
   ]
  },
  {
   "cell_type": "code",
   "execution_count": 5,
   "id": "4afa7c3e",
   "metadata": {},
   "outputs": [],
   "source": [
    "collapse = driver.find_element(By.XPATH,'//*[@id=\"content-main\"]/div/div[1]/div[1]/button')\n",
    "try:\n",
    "    collapse.click()\n",
    "    \n",
    "except exception as e:\n",
    "    print('Not collapsed')"
   ]
  },
  {
   "cell_type": "code",
   "execution_count": null,
   "id": "b4807a4b",
   "metadata": {},
   "outputs": [],
   "source": [
    "#profile_ID = 'href=\"/sales/lead/ACwAAALHYtwBN9PyYXJwSkQ8e6YTatFnFsygZXQ,NAME_SEARCH,pcsu?_ntb=ni6xDk2wQvmKfqXEeJKiYA%3D%3D\"'\n",
    "#profile_url = 'https://www.linkedin.com' + profile_ID\n",
    "#print(profile_ID)"
   ]
  },
  {
   "cell_type": "code",
   "execution_count": 9,
   "id": "bfa3b24e",
   "metadata": {},
   "outputs": [
    {
     "name": "stdout",
     "output_type": "stream",
     "text": [
      "https://www.linkedin.com/sales/lead/ACwAAALHYtwBN9PyYXJwSkQ8e6YTatFnFsygZXQ,NAME_SEARCH,pcsu?_ntb=ni6xDk2wQvmKfqXEeJKiYA%3D%3D\n"
     ]
    }
   ],
   "source": [
    "page_source = BeautifulSoup(driver.page_source)\n",
    "divi = page_source.find('div',class_ = 'artdeco-entity-lockup__title')\n",
    "profiles = divi.find_all('a',class_ = 'ember-view')\n",
    "\n",
    "for link in profiles:\n",
    "    gotlink = link.get('href')\n",
    "    profile_ID = 'https://www.linkedin.com' + gotlink    \n",
    "        \n",
    "    \n",
    "print(profile_ID)\n",
    "    "
   ]
  },
  {
   "cell_type": "code",
   "execution_count": null,
   "id": "09c1922e",
   "metadata": {},
   "outputs": [],
   "source": [
    "\n",
    "\n",
    "# all_profile_URL = []\n",
    " #   for profile in profiles:\n",
    "  #      profile_ID = profile.get('href')\n",
    "        #profile_url = profile_ID\n",
    "    \n",
    "   #     if profile_ID not in all_profile_URL:\n",
    "    #            all_profile_URL.append(profile_ID)\n",
    "        \n",
    "\n",
    "\n",
    "#def GeturlsonePage():\n",
    "    \n",
    "    #input_page = int(input('How many pages you want to scrape: '))\n",
    "    #URLs_all_page = []\n",
    "    \n",
    "    #return URLs_all_page\n",
    "    #for page in range(input_page):\n",
    "        \n",
    "        #URLs_one_page = GetURL()\n",
    "        #sleep(2)\n",
    "        #driver.execute_script('window.scrollTo(0, document.body.scrollHeight);') #scroll to the end of the page\n",
    "        #sleep(3)\n",
    "        #next_button = driver.find_element(By.CLASS_NAME,\"artdeco-pagination__button--next\")\n",
    "        #driver.execute_script(\"arguments[0].click();\", next_button)\n",
    "        #URLs_all_page = URLs_all_page + URLs_one_page\n",
    "    "
   ]
  },
  {
   "cell_type": "code",
   "execution_count": null,
   "id": "3b1afae6",
   "metadata": {},
   "outputs": [],
   "source": [
    "#page_source = BeautifulSoup(driver.page_source,\"html.parser\")\n",
    "#print(page_source)\n",
    "\n",
    "\n",
    "#profile = page_source.find_element(By.NAME,'view_profile_via_result_name')\n",
    "#print(profile)\n",
    "\n",
    "\n",
    "#profile_link = profile.find_element(By.NAME,'href').text()\n",
    "\n",
    "\n",
    "\n",
    "#salesNav_pg = driver.find_element(By.XPATH,\"//button[@class='artdeco-button--2']\") \n",
    "#salesNav_pg.click()\n",
    "\n",
    "\n",
    "\n",
    "\n",
    "#Name = salesNav_pg.find('a')\n",
    "\n",
    "\n",
    "#print(Name).get_text().strip()\n",
    "#len(Name)\n",
    "\n",
    "\n",
    "\n",
    "\n",
    "#try:\n",
    "    # Close the footer add\n",
    "#    wait.until(EC.element_to_be_clickable((By.XPATH,\"//span[@id='ezmob-wrapper']/div/center/span/div/div/span\"))).click()\n",
    "    # Scroll a distance so that the Cookie pop up appears and Close it\n",
    "    #driver.execute_script(\"window.scrollBy(0,50);\")\n",
    "#    wait.until(EC.element_to_be_clickable((By.XPATH,\"//button[@id='rcc-confirm-button']\"))).click()\n",
    "#except:\n",
    "#    print(\"no Clicked\")\n",
    " \n"
   ]
  },
  {
   "cell_type": "code",
   "execution_count": null,
   "id": "02a28f70",
   "metadata": {},
   "outputs": [],
   "source": [
    "\n",
    "#prof_view = driver.find_element(By.CLASS_NAME,'artdeco-dropdown__content--is-open')\n",
    "#prof_viewli = prof_view.find_element(By.CLASS_NAME,'inverse-link-on-a-light-background-without-visited-and-hover')\n",
    "#prof_viewli.click()"
   ]
  },
  {
   "cell_type": "code",
   "execution_count": 25,
   "id": "5f50300e",
   "metadata": {},
   "outputs": [
    {
     "name": "stdout",
     "output_type": "stream",
     "text": [
      "https://www.linkedin.com/sales/lead/ACwAAALHYtwBN9PyYXJwSkQ8e6YTatFnFsygZXQ,NAME_SEARCH,pcsu?_ntb=ni6xDk2wQvmKfqXEeJKiYA%3D%3D\n",
      "Richard S. Henry, PMP, CSM\n",
      "IT Project Manager- Insights as a Service, Advanced Analytics & Data Science/ML Engineering\n",
      "Tyson Foods\n",
      "Fayetteville, Arkansas, United States\n",
      "\n",
      "\n",
      "https://www.linkedin.com/sales/lead/ACwAAALHYtwBN9PyYXJwSkQ8e6YTatFnFsygZXQ,NAME_SEARCH,pcsu?_ntb=ni6xDk2wQvmKfqXEeJKiYA%3D%3D\n",
      "Richard S. Henry, PMP, CSM\n",
      "IT Project Manager- Insights as a Service, Advanced Analytics & Data Science/ML Engineering\n",
      "Tyson Foods\n",
      "Fayetteville, Arkansas, United States\n",
      "\n",
      "\n",
      "https://www.linkedin.com/sales/lead/ACwAAALHYtwBN9PyYXJwSkQ8e6YTatFnFsygZXQ,NAME_SEARCH,pcsu?_ntb=ni6xDk2wQvmKfqXEeJKiYA%3D%3D\n",
      "Richard S. Henry, PMP, CSM\n",
      "IT Project Manager- Insights as a Service, Advanced Analytics & Data Science/ML Engineering\n",
      "Tyson Foods\n",
      "Fayetteville, Arkansas, United States\n",
      "\n",
      "\n"
     ]
    },
    {
     "ename": "ValueError",
     "evalue": "I/O operation on closed file.",
     "output_type": "error",
     "traceback": [
      "\u001b[1;31m---------------------------------------------------------------------------\u001b[0m",
      "\u001b[1;31mValueError\u001b[0m                                Traceback (most recent call last)",
      "Input \u001b[1;32mIn [25]\u001b[0m, in \u001b[0;36m<cell line: 46>\u001b[1;34m()\u001b[0m\n\u001b[0;32m     41\u001b[0m         sleep(\u001b[38;5;241m2\u001b[39m)\n\u001b[0;32m     44\u001b[0m         \u001b[38;5;28mprint\u001b[39m(\u001b[38;5;124m'\u001b[39m\u001b[38;5;130;01m\\n\u001b[39;00m\u001b[38;5;124m'\u001b[39m)\n\u001b[1;32m---> 46\u001b[0m \u001b[43mwriter\u001b[49m\u001b[38;5;241;43m.\u001b[39;49m\u001b[43mwriterow\u001b[49m\u001b[43m(\u001b[49m\u001b[43m{\u001b[49m\u001b[43mheaders\u001b[49m\u001b[43m[\u001b[49m\u001b[38;5;241;43m0\u001b[39;49m\u001b[43m]\u001b[49m\u001b[43m \u001b[49m\u001b[43m:\u001b[49m\u001b[43m \u001b[49m\u001b[43mName\u001b[49m\u001b[43m \u001b[49m\u001b[43m,\u001b[49m\u001b[43m \u001b[49m\u001b[43mheaders\u001b[49m\u001b[43m[\u001b[49m\u001b[38;5;241;43m1\u001b[39;49m\u001b[43m]\u001b[49m\u001b[43m \u001b[49m\u001b[43m:\u001b[49m\u001b[43m \u001b[49m\u001b[43mJob_Title\u001b[49m\u001b[43m \u001b[49m\u001b[43m,\u001b[49m\u001b[43m \u001b[49m\u001b[43mheaders\u001b[49m\u001b[43m[\u001b[49m\u001b[38;5;241;43m2\u001b[39;49m\u001b[43m]\u001b[49m\u001b[43m \u001b[49m\u001b[43m:\u001b[49m\u001b[43m \u001b[49m\u001b[43mcompany\u001b[49m\u001b[43m \u001b[49m\u001b[43m,\u001b[49m\u001b[43m \u001b[49m\u001b[43mheaders\u001b[49m\u001b[43m[\u001b[49m\u001b[38;5;241;43m3\u001b[39;49m\u001b[43m]\u001b[49m\u001b[43m \u001b[49m\u001b[43m:\u001b[49m\u001b[43m \u001b[49m\u001b[43mlocation\u001b[49m\u001b[43m \u001b[49m\u001b[43m,\u001b[49m\u001b[43m \u001b[49m\u001b[43mheaders\u001b[49m\u001b[43m[\u001b[49m\u001b[38;5;241;43m4\u001b[39;49m\u001b[43m]\u001b[49m\u001b[43m \u001b[49m\u001b[43m:\u001b[49m\u001b[43m \u001b[49m\u001b[43mprofile_link\u001b[49m\u001b[43m}\u001b[49m\u001b[43m)\u001b[49m\n",
      "File \u001b[1;32m~\\anaconda3\\lib\\csv.py:154\u001b[0m, in \u001b[0;36mDictWriter.writerow\u001b[1;34m(self, rowdict)\u001b[0m\n\u001b[0;32m    153\u001b[0m \u001b[38;5;28;01mdef\u001b[39;00m \u001b[38;5;21mwriterow\u001b[39m(\u001b[38;5;28mself\u001b[39m, rowdict):\n\u001b[1;32m--> 154\u001b[0m     \u001b[38;5;28;01mreturn\u001b[39;00m \u001b[38;5;28;43mself\u001b[39;49m\u001b[38;5;241;43m.\u001b[39;49m\u001b[43mwriter\u001b[49m\u001b[38;5;241;43m.\u001b[39;49m\u001b[43mwriterow\u001b[49m\u001b[43m(\u001b[49m\u001b[38;5;28;43mself\u001b[39;49m\u001b[38;5;241;43m.\u001b[39;49m\u001b[43m_dict_to_list\u001b[49m\u001b[43m(\u001b[49m\u001b[43mrowdict\u001b[49m\u001b[43m)\u001b[49m\u001b[43m)\u001b[49m\n",
      "\u001b[1;31mValueError\u001b[0m: I/O operation on closed file."
     ]
    }
   ],
   "source": [
    "with open('data.csv','w',newline = '') as file_output:\n",
    "    headers = ['profile link','Name','Job Title','Company','Location']\n",
    "    writer = csv.DictWriter(file_output, delimiter = ',' , lineterminator = '\\n' , fieldnames = headers)\n",
    "    writer.writeheader()\n",
    "    \n",
    "    \n",
    "    \n",
    "    for link_prof in profiles:\n",
    "    \n",
    "        page_source = BeautifulSoup(driver.page_source,\"html.parser\")\n",
    "        divi = page_source.find('div',class_ = 'artdeco-entity-lockup__title')\n",
    "        profiles = divi.find_all('a',class_ = 'ember-view')\n",
    "\n",
    "        for link in profiles:\n",
    "            gotlink = link.get('href')\n",
    "            profile_link = 'https://www.linkedin.com' + gotlink     \n",
    "        print(profile_link)\n",
    "        sleep(2)    \n",
    "    \n",
    "\n",
    "        page_source = BeautifulSoup(driver.page_source,\"html.parser\")\n",
    "\n",
    "        profiles = page_source.find('div',class_ = 'artdeco-entity-lockup__title')\n",
    "        Name = profiles.find('a').get_text().strip()\n",
    "        print(Name)\n",
    "        sleep(2)\n",
    "\n",
    "        profiles = page_source.find('div',class_ = 'artdeco-entity-lockup__subtitle')\n",
    "        Job_Title = profiles.find('span').get_text().strip()\n",
    "        print(Job_Title)\n",
    "        sleep(2)\n",
    "\n",
    "        profiles = page_source.find('div',class_ = 'artdeco-entity-lockup__subtitle')\n",
    "        company = profiles.find('a').get_text().strip()\n",
    "        print(company)\n",
    "        sleep(2)\n",
    "\n",
    "        profiles = page_source.find('div',class_ = 'artdeco-entity-lockup__caption')\n",
    "        location = profiles.find('span').get_text().strip()\n",
    "        print(location)\n",
    "        sleep(2)\n",
    "\n",
    "        \n",
    "        print('\\n')\n",
    "    \n",
    "writer.writerow({headers[0] : Name , headers[1] : Job_Title , headers[2] : company , headers[3] : location , headers[4] : profile_link})\n",
    "    \n",
    "\n",
    "#company_link = profiles.get_attribute('href')\n",
    "#print(company_link)\n",
    "\n",
    "#Name = profiles.find_element(By.CLASS_NAME,'ember-view')\n",
    "#print(Name).getText()\n",
    "\n"
   ]
  },
  {
   "cell_type": "code",
   "execution_count": null,
   "id": "b0deae2f",
   "metadata": {},
   "outputs": [],
   "source": []
  }
 ],
 "metadata": {
  "kernelspec": {
   "display_name": "Python 3 (ipykernel)",
   "language": "python",
   "name": "python3"
  },
  "language_info": {
   "codemirror_mode": {
    "name": "ipython",
    "version": 3
   },
   "file_extension": ".py",
   "mimetype": "text/x-python",
   "name": "python",
   "nbconvert_exporter": "python",
   "pygments_lexer": "ipython3",
   "version": "3.9.12"
  }
 },
 "nbformat": 4,
 "nbformat_minor": 5
}
